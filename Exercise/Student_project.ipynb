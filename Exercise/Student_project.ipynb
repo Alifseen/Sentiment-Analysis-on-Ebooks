{
 "cells": [
  {
   "cell_type": "code",
   "execution_count": 1,
   "id": "effa4a17-5154-429d-9085-3312ffdc9b0f",
   "metadata": {},
   "outputs": [],
   "source": [
    "import re"
   ]
  },
  {
   "cell_type": "markdown",
   "id": "d477306b-3a7d-4acc-8950-f438309e9da3",
   "metadata": {},
   "source": [
    "# Open Book"
   ]
  },
  {
   "cell_type": "code",
   "execution_count": 3,
   "id": "2b4d3ed8-bdb6-4175-81c7-e2229ebffc97",
   "metadata": {},
   "outputs": [],
   "source": [
    "with open(\"Files/miracle_in_the_andes.txt\", \"r\", encoding=\"utf-8\") as file:\n",
    "    book = file.read()"
   ]
  },
  {
   "cell_type": "markdown",
   "id": "fbf7133c-5ad7-4573-8446-3a1b5646f405",
   "metadata": {},
   "source": [
    "# Extract Para with word \"love\""
   ]
  },
  {
   "cell_type": "code",
   "execution_count": 5,
   "id": "2a723dce-c6d1-4739-93c9-a5be3ba80585",
   "metadata": {},
   "outputs": [
    {
     "data": {
      "text/plain": [
       "60"
      ]
     },
     "execution_count": 5,
     "metadata": {},
     "output_type": "execute_result"
    }
   ],
   "source": [
    "pattern = re.compile(\"[^\\n]*[lL]ove[^\\n]*\\n\")\n",
    "search = re.findall(pattern, book)\n",
    "len(search)"
   ]
  },
  {
   "cell_type": "markdown",
   "id": "19774b22-431b-44f9-b0eb-d742e25384b0",
   "metadata": {},
   "source": [
    "# Extract Chapter Titles"
   ]
  },
  {
   "cell_type": "code",
   "execution_count": 79,
   "id": "47290aec-dbfd-472f-939a-84a90dedd657",
   "metadata": {},
   "outputs": [
    {
     "data": {
      "text/plain": [
       "['Chapter 1\\n\\nBefore\\n\\n',\n",
       " 'Chapter 2\\n\\nEverything Precious\\n\\n',\n",
       " 'Chapter 3\\n\\nA Promise\\n\\n',\n",
       " 'Chapter 4\\n\\nBreathe Once More\\n\\n',\n",
       " 'Chapter 5\\n\\nAbandoned\\n\\n',\n",
       " 'Chapter 6\\n\\nTomb\\n\\n',\n",
       " 'Chapter 7\\n\\nEast\\n\\n',\n",
       " 'Chapter 8\\n\\nThe Opposite of Death\\n\\n',\n",
       " 'Chapter 9\\n\\nI See a Man\\n\\n',\n",
       " 'Chapter 10\\n\\nAfter\\n\\n']"
      ]
     },
     "execution_count": 79,
     "metadata": {},
     "output_type": "execute_result"
    }
   ],
   "source": [
    "pattern = re.compile(\"Chapter[ 0-9\\n]+[a-zA-Z0-9 ]+\\n\\n\")\n",
    "search = re.findall(pattern, book)\n",
    "search"
   ]
  },
  {
   "cell_type": "code",
   "execution_count": 80,
   "id": "d693bd84-cc5b-43d1-addd-b0cdc95f5df7",
   "metadata": {},
   "outputs": [
    {
     "data": {
      "text/plain": [
       "['Before',\n",
       " 'Everything Precious',\n",
       " 'A Promise',\n",
       " 'Breathe Once More',\n",
       " 'Abandoned',\n",
       " 'Tomb',\n",
       " 'East',\n",
       " 'The Opposite of Death',\n",
       " 'I See a Man',\n",
       " 'After']"
      ]
     },
     "execution_count": 80,
     "metadata": {},
     "output_type": "execute_result"
    }
   ],
   "source": [
    "chapter_titles = [term.split(\"\\n\\n\") for term in search]\n",
    "titles = [title[1] for title in chapter_titles]\n",
    "titles"
   ]
  },
  {
   "cell_type": "markdown",
   "id": "a20427e5-1560-4edf-bd6b-1e70434bbb2a",
   "metadata": {},
   "source": [
    "# Function that finds occurrance of a word"
   ]
  },
  {
   "cell_type": "code",
   "execution_count": 84,
   "id": "9bc6dec9-0b32-4e0d-8010-c790984afa38",
   "metadata": {},
   "outputs": [],
   "source": [
    "def occ_word(word):\n",
    "    pattern = re.compile(f\"[^a-zA-Z0-9]{word}[^a-zA-Z0-9]\")\n",
    "    search = re.findall(pattern, book.lower())\n",
    "    if len(search) > 0:\n",
    "        return len(search)\n",
    "    else:\n",
    "        return \"This "
   ]
  },
  {
   "cell_type": "markdown",
   "id": "b48afc5d-9ce5-49a3-96d2-16351846b497",
   "metadata": {},
   "source": [
    "# Call the function"
   ]
  },
  {
   "cell_type": "code",
   "execution_count": 90,
   "id": "ceaf0415-9402-4ff4-bc76-6d9f2158b206",
   "metadata": {},
   "outputs": [
    {
     "name": "stdout",
     "output_type": "stream",
     "text": [
      "284\n"
     ]
    }
   ],
   "source": [
    "print(occ_word(\"roberto\"))"
   ]
  },
  {
   "cell_type": "code",
   "execution_count": null,
   "id": "5c372d1e-96be-42bc-a7bf-07932316ca9e",
   "metadata": {},
   "outputs": [],
   "source": []
  }
 ],
 "metadata": {
  "kernelspec": {
   "display_name": "Python 3 (ipykernel)",
   "language": "python",
   "name": "python3"
  },
  "language_info": {
   "codemirror_mode": {
    "name": "ipython",
    "version": 3
   },
   "file_extension": ".py",
   "mimetype": "text/x-python",
   "name": "python",
   "nbconvert_exporter": "python",
   "pygments_lexer": "ipython3",
   "version": "3.12.4"
  }
 },
 "nbformat": 4,
 "nbformat_minor": 5
}
