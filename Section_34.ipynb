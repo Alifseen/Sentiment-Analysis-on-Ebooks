{
 "cells": [
  {
   "cell_type": "markdown",
   "id": "13e4426f-562b-4366-b94f-df3772854d8b",
   "metadata": {},
   "source": [
    "### Import RE the regex standard library from Python"
   ]
  },
  {
   "cell_type": "code",
   "execution_count": 3,
   "id": "c6b9b94c-8701-40b5-8c61-cf1c8f50f5a5",
   "metadata": {},
   "outputs": [],
   "source": [
    "import re"
   ]
  },
  {
   "cell_type": "markdown",
   "id": "0f84da55-e20c-41e8-8d13-59e65881f9f3",
   "metadata": {},
   "source": [
    "#### Open the text file"
   ]
  },
  {
   "cell_type": "code",
   "execution_count": 8,
   "id": "3e9e1c93-118f-49e8-8c09-e7e8d9a8ddd0",
   "metadata": {},
   "outputs": [],
   "source": [
    "with open(\"Files/miracle_in_the_andes.txt\", \"r\", encoding=\"utf-8\") as file:\n",
    "    book = file.read()"
   ]
  },
  {
   "cell_type": "markdown",
   "id": "1385cece-50a9-4b6d-92fd-491f10129c69",
   "metadata": {},
   "source": [
    "##### Using string method count to find number of chapters"
   ]
  },
  {
   "cell_type": "code",
   "execution_count": 13,
   "id": "885fb1f2-30ca-4fef-bbea-5bf8b7da6c40",
   "metadata": {},
   "outputs": [
    {
     "data": {
      "text/plain": [
       "11"
      ]
     },
     "execution_count": 13,
     "metadata": {},
     "output_type": "execute_result"
    }
   ],
   "source": [
    "book.count(\"Chapter\")"
   ]
  },
  {
   "cell_type": "markdown",
   "id": "dcf0e937-37d9-424a-b52d-df01e2582669",
   "metadata": {},
   "source": [
    "###### This returned 11 even though there are only 10 chapters"
   ]
  },
  {
   "cell_type": "markdown",
   "id": "b53776e7-4c5d-4080-8027-9c3840a790c8",
   "metadata": {},
   "source": [
    "#### Using REGEX to get the number of chapters"
   ]
  },
  {
   "cell_type": "code",
   "execution_count": 23,
   "id": "88155af2-6b1b-4ad1-b8e6-57d5e78361d3",
   "metadata": {},
   "outputs": [
    {
     "data": {
      "text/plain": [
       "10"
      ]
     },
     "execution_count": 23,
     "metadata": {},
     "output_type": "execute_result"
    }
   ],
   "source": [
    "pattern = re.compile(\"Chapter [0-9]+\")\n",
    "search = re.findall(pattern, book)\n",
    "len(search)"
   ]
  },
  {
   "cell_type": "markdown",
   "id": "f7783568-0c3c-48d5-a264-7a0bec92559d",
   "metadata": {},
   "source": [
    "###### Findall method takes two arguments, 1st the pattern to look for, 2nd where to look for it. This shows the correct number of chapters\n",
    "The + sign means \"1 or more of anything\".\n",
    "The compile method stores converts strings to regex"
   ]
  },
  {
   "cell_type": "markdown",
   "id": "cbde399f-483c-4d10-9eaa-b434dc97f0f7",
   "metadata": {},
   "source": [
    "#### Now lets try and find all sentences that contain the word love using regex"
   ]
  },
  {
   "cell_type": "code",
   "execution_count": 29,
   "id": "fb1ee39d-53df-4c2f-b02a-2d960e928577",
   "metadata": {},
   "outputs": [
    {
     "data": {
      "text/plain": [
       "108"
      ]
     },
     "execution_count": 29,
     "metadata": {},
     "output_type": "execute_result"
    }
   ],
   "source": [
    "pattern = re.compile(\" love\")\n",
    "search = re.findall(pattern, book)\n",
    "len(search)"
   ]
  },
  {
   "cell_type": "markdown",
   "id": "48c24d2d-09cf-4b4c-8b81-6b097624b962",
   "metadata": {},
   "source": [
    "This tells us how many times this word is mentioned. But calling search only returns the word \"love\" 114 times in a list. We need sentences."
   ]
  },
  {
   "cell_type": "code",
   "execution_count": 39,
   "id": "8763345c-c3a7-4fce-9e3a-43478a0f679b",
   "metadata": {},
   "outputs": [
    {
     "data": {
      "text/plain": [
       "['passionate love for',\n",
       " 'a love of',\n",
       " 'to love the',\n",
       " 'in love with',\n",
       " 'the love and',\n",
       " 'a love for',\n",
       " 'mother love it',\n",
       " 'and love and',\n",
       " 'her love and',\n",
       " 'his love for',\n",
       " 'of love for',\n",
       " 's love for',\n",
       " 'to love the',\n",
       " 'my love for',\n",
       " 'the love and',\n",
       " 'my love for',\n",
       " 'my love for',\n",
       " 'of love so',\n",
       " 'and love to',\n",
       " 'to love God',\n",
       " 'to love others',\n",
       " 'with love for',\n",
       " 'this love would',\n",
       " 'my love for',\n",
       " 'is love God',\n",
       " 'and love others',\n",
       " 'can love our',\n",
       " 'I love them',\n",
       " 'made love to',\n",
       " 'such love for',\n",
       " 'My love for',\n",
       " 'Only love can',\n",
       " 'with love and',\n",
       " 'the love of',\n",
       " 'this love and',\n",
       " 'with love as',\n",
       " 'his love had',\n",
       " 'I love it',\n",
       " 'in love with',\n",
       " 'never love anything',\n",
       " 'my love for',\n",
       " 'much love and',\n",
       " 'his love when',\n",
       " 'that love was',\n",
       " 'of love that',\n",
       " 'the love in',\n",
       " 'this love swell',\n",
       " 'I love to',\n",
       " 'the love of',\n",
       " 'my love and',\n",
       " 'of love toward',\n",
       " 'was love that',\n",
       " 'my love for',\n",
       " 'the love I',\n",
       " 'to love my']"
      ]
     },
     "execution_count": 39,
     "metadata": {},
     "output_type": "execute_result"
    }
   ],
   "source": [
    "pattern = re.compile(\"[a-zA-Z]* love [a-zA-Z]+\")  ## * means 0 or more of anything\n",
    "search = re.findall(pattern, book)\n",
    "search"
   ]
  },
  {
   "cell_type": "markdown",
   "id": "ce3a029a-96f8-46ea-b23c-3441bafbe0cd",
   "metadata": {},
   "source": [
    "This just gets the word before and after the word love. It stops after that because our patter does not include white space. Lets add that now."
   ]
  },
  {
   "cell_type": "code",
   "execution_count": 40,
   "id": "0d2ee376-399b-4bd3-88f9-30c1143d14dd",
   "metadata": {},
   "outputs": [
    {
     "data": {
      "text/plain": [
       "[' and under the guidance of the Christian Brothers we developed a passionate love for the sport that shaped our friendships and our lives',\n",
       " ' playing soccer and sharing a love of motorcycles',\n",
       " ' both of us grew to love the game of rugby with a consuming passion',\n",
       " ' when he met and fell in love with the beautiful daughter of a Chilean diplomat',\n",
       " ' I believe he had a great hunger for the love and comforts of a family that was happy and whole',\n",
       " ' a love for cars and driving',\n",
       " ' and he loved going with us to auto races',\n",
       " ' who loved him like a son',\n",
       " ' and this more than anything made my mother love it',\n",
       " ' but her strength was always based in warmth and love and because of her love and protection I grew up believing the world was a safe',\n",
       " ' he always showed his love for us subtly',\n",
       " ' I loved the gentle seriousness with which he shared his knowledge',\n",
       " ' Out of love for his family he had arranged in his mind a future that would keep us all safe',\n",
       " ' Again and again I pleaded with them to give me some news of my loved ones',\n",
       " ' and she loved hearing about our family',\n",
       " 's love for the closeness of family',\n",
       " ' she loved music and dancing and parties',\n",
       " ' an experience that taught her to love the U',\n",
       " ' the sweetness of my love for her',\n",
       " ' embracing her as if I were embracing all the love and peace and joy I had ever known and would ever know',\n",
       " ' I felt my love for my father tugging at me like a lifeline',\n",
       " ' dull emptiness as my beloved Susy',\n",
       " ' my love for my father was the only thing that kept me sane',\n",
       " ' choosing to end his suffering and join his loved ones in death',\n",
       " 'Thinking of my father this way always triggered in me a burst of love so radiant and urgent that it took my breath away',\n",
       " 'God loves us',\n",
       " ' If he loves us so much',\n",
       " ' but still she had the courage and love to mother these frightened boys who were so far from their families',\n",
       " 'gloves',\n",
       " ' None of them wore gloves',\n",
       " ' and I loved watching him play',\n",
       " ' to love God and to love others as Jesus had taught us',\n",
       " ' I would think of him and let my heart fill with love for him',\n",
       " ' and this love would be stronger than my suffering',\n",
       " ' my love for my father had taken on the irresistible power of a biological drive',\n",
       " ' I believe Numa was the best loved man on the mountain',\n",
       " ' and he loved nothing more than to lower his shoulder and send some oversized',\n",
       " 'Roberto loved rugby',\n",
       " 'All we can do is love God and love others and trust in God',\n",
       " ' My beloved motorcycle',\n",
       " ' we can love our families',\n",
       " 'You will tell my family that I love them',\n",
       " ' he made love to so many beautiful girls',\n",
       " ' They had stolen away our best friends and loved ones',\n",
       " ' The shoes were magical for me because my mother had chosen them with such love for her grandson',\n",
       " ' and our loved ones would never know how hard we had struggled to return to them',\n",
       " ' My love for my father swelled in my heart',\n",
       " ' Only love can turn mere life into a miracle',\n",
       " ' I would walk through the godforsaken country that separated me from my home with love and hope in my heart',\n",
       " 'the love of a wife',\n",
       " ' this love and affection for the very idea of my life',\n",
       " ' and my heart swelled with love as I held her',\n",
       " ' that his love had been the guiding light that led me to safety',\n",
       " ' but as I watched them sharing their joy with their loved ones',\n",
       " 's beloved Rover',\n",
       " 'I love it',\n",
       " 'I have loved racing since I was a kid',\n",
       " ' a prestigious event that draws the loveliest women from all across South America',\n",
       " ' and looking even lovelier than I remembered',\n",
       " ' and I fell in love with her all over again',\n",
       " ' I would make a future with the woman I loved',\n",
       " ' I had thought I could never love anything as much as I loved my wife',\n",
       " ' I was struck senseless by my love for her',\n",
       " ' I loved changing her diapers',\n",
       " 'I had been given so much love and happiness',\n",
       " ' but I never doubted his love when I was a boy',\n",
       " ' that love was like a safety line anchored in the world of the living',\n",
       " ' and in the end it was that strong cord of love that led me out of danger',\n",
       " ' the love in my heart',\n",
       " ' as I felt this love swell',\n",
       " 'love for my father',\n",
       " ' I love to travel',\n",
       " ' but my experiences have taught me that without the love of my family and my friends',\n",
       " ' I reaffirm my love and gratitude for all the gifts I',\n",
       " ' I try to direct that tide of love toward the people who are close to me',\n",
       " ' it was love that kept me connected to the world of the living',\n",
       " ' so I relied upon the trust I felt in my love for my father and my future',\n",
       " ' the only way I will find it is through the love I feel for my family and my friends',\n",
       " ' I have tried to love my friends with a loyal and generous heart',\n",
       " ' I have loved my children with all my strength',\n",
       " ' And I have loved one woman and that has filled my life with meaning and joy',\n",
       " ' I have loved',\n",
       " ' and I have been loved in return',\n",
       " ' about moving the bodies of our loved ones to a cemetery in the civilized world']"
      ]
     },
     "execution_count": 40,
     "metadata": {},
     "output_type": "execute_result"
    }
   ],
   "source": [
    "pattern = re.compile(\"[a-zA-Z ]* love [a-zA-Z ]+\")\n",
    "search = re.findall(pattern, book)\n",
    "search"
   ]
  },
  {
   "cell_type": "markdown",
   "id": "28409421-e66f-4c6c-b343-4d8467e617ed",
   "metadata": {},
   "source": [
    "This is better but some sentences are stopping half way, this is because we didnt add any punctuation, but that is too inefficient since there can be many different types of punctuation. So instead we use ^ which means \"anything byt this\""
   ]
  },
  {
   "cell_type": "code",
   "execution_count": 46,
   "id": "bf94f856-ea28-4f7e-8198-959c7f6245ff",
   "metadata": {},
   "outputs": [
    {
     "data": {
      "text/plain": [
       "[' As a young man, of course, I could not put these things into words, but I knew, and my teammates knew, that there was something special about the game, and under the guidance of the Christian Brothers we developed a passionate love for the sport that shaped our friendships and our lives.',\n",
       " ' Guido and I grew up together, playing soccer and sharing a love of motorcycles, cars, and auto racing.',\n",
       " ' Under the guidance of the Christian Brothers, both of us grew to love the game of rugby with a consuming passion.',\n",
       " ' That rowdiness came to an abrupt end for Guido in 1969, when he met and fell in love with the beautiful daughter of a Chilean diplomat.',\n",
       " ' I believe he had a great hunger for the love and comforts of a family that was happy and whole.',\n",
       " ' He shared, with my father and me, a love for cars and driving, and he loved going with us to auto races.',\n",
       " ' The house had a beautiful view of the sea, and this more than anything made my mother love it.',\n",
       " ' She was a true tower of strength, but her strength was always based in warmth and love and because of her love and protection I grew up believing the world was a safe, familiar place.',\n",
       " ' He had given us a life of comfort and privilege such as his own father never could have imagined, he had provided for us and protected us in the best way he could, and though he was not an emotionally expressive man, he always showed his love for us subtly, quietly, and in ways that were true to the man he was.',\n",
       " ' Out of love for his family he had arranged in his mind a future that would keep us all safe, happy, and always together.',\n",
       " ' Susy shared my mother’s love for the closeness of family, but she was no stay-at-home girl.',\n",
       " ' When she was sixteen she spent a year as an exchange student living with a family in Florida, an experience that taught her to love the U.',\n",
       " ' As I lay beside her, the sweetness of my love for her, for my lost friends and my family, for the suddenly fragile notion of my own life and future, swelled in my heart with an ache so profound it sapped all my strength, and for a moment I thought I would pass out.',\n",
       " ' I pressed my cheek against hers so I could feel her warm breath on my face, and held her that way all night, gently, but very close, never letting go, embracing her as if I were embracing all the love and peace and joy I had ever known and would ever know; as if by holding on tight I could keep everything precious from slipping away.',\n",
       " ' I felt my love for my father tugging at me like a lifeline, drawing me toward those barren slopes.',\n",
       " '\\n\\nIn the days after Susy died, my love for my father was the only thing that kept me sane, and time after time I would calm myself by reaffirming the promise I had made at Susy’s grave: to return to him; to show him I had survived and to ease his suffering a little.',\n",
       " '\\n\\nThinking of my father this way always triggered in me a burst of love so radiant and urgent that it took my breath away.',\n",
       " ' Bobby, are you warm enough? Do you want me to rub your feet?” She worried constantly about the children she had left at home, but still she had the courage and love to mother these frightened boys who were so far from their families.',\n",
       " ' It was our job to follow His commandments, to take the sacraments, to love God and to love others as Jesus had taught us.',\n",
       " ' I would think of him and let my heart fill with love for him, and this love would be stronger than my suffering, or my fear.',\n",
       " ' After two weeks on the mountain, my love for my father had taken on the irresistible power of a biological drive.',\n",
       " ' “All we can do is love God and love others and trust in God’s will.',\n",
       " ' Even if we are trapped here forever, we can love our families, and God, and each other as long as we live.',\n",
       " '\\n\\n“You will tell my family that I love them, won’t you? That’s all that matters to me now.',\n",
       " ' But he lived so many lifetimes, had so many adventures, and, macho, he made love to so many beautiful girls.',\n",
       " ' The shoes were magical for me because my mother had chosen them with such love for her grandson, and had handled them so tenderly on the plane.',\n",
       " ' My love for my father swelled in my heart, and I realized that, despite the hopelessness of my situation, the memory of him filled me with joy.',\n",
       " ' Only love can turn mere life into a miracle, and draw precious meaning from suffering and fear.',\n",
       " ' I would walk through the godforsaken country that separated me from my home with love and hope in my heart.',\n",
       " ' But still, still, I longed for the very things I knew I would never have—the love of a wife, a family of my own, a reunion with my grandmother and older sister, and always the embrace of my father.',\n",
       " ' My ordeal had simplified my mind and whittled me down very close to the essence of what I was, and now I saw that this longing, this love and affection for the very idea of my life, was a deeper part of me than hopelessness or fear or pain or hunger.',\n",
       " ' In seconds she was in my arms, and my heart swelled with love as I held her.',\n",
       " '”\\n\\nThere was so much I wanted to tell him, that I had thought of him every moment, that his love had been the guiding light that led me to safety.',\n",
       " ' Where should I begin? “I love it,” I said, finally.',\n",
       " ' She stepped off the train with only a backpack and a small duffel, looking very beautiful, and I fell in love with her all over again.',\n",
       " ' Until then, I had thought I could never love anything as much as I loved my wife, but when I gazed into my baby’s face, I was struck senseless by my love for her.',\n",
       " ' I felt a sudden, staggering sense of gratitude for the rich joys of my life—I had been given so much love and happiness—and I realized that every grueling step I had taken through that godforsaken wilderness was a step toward the tiny, precious miracle I held in my arms.',\n",
       " ' He was never an openly affectionate man, but I never doubted his love when I was a boy.',\n",
       " ' When I was in the mountains, stranded in the shadows of death, that love was like a safety line anchored in the world of the living.',\n",
       " ' As long as I held on to that love, I was not lost, I was connected to my home and to my future, and in the end it was that strong cord of love that led me out of danger.',\n",
       " ' There was love, the love in my heart, and for one incredible moment, as I felt this love swell—love for my father, for my future, for the simple wonder of being alive—death lost its power.',\n",
       " ' I love to travel.',\n",
       " ' I believe life should be enjoyed, but my experiences have taught me that without the love of my family and my friends, all the trappings of worldly success would ring hollow.',\n",
       " ' I savor them and let each one become a miniature eternity, and by living these small moments of my life so fully, I defy the shadow of death that hovers over all of us, I reaffirm my love and gratitude for all the gifts I’ve been given, and I fill myself more and more deeply with life.',\n",
       " ' I open myself to it, I try to direct that tide of love toward the people who are close to me, hoping to protect them and bind them to me forever and connect us all to whatever there is in the world that is eternal.',\n",
       " ' In the mountains, it was love that kept me connected to the world of the living.',\n",
       " ' I had no expertise to draw on, so I relied upon the trust I felt in my love for my father and my future, and that trust led me home.',\n",
       " ' Now I am convinced that if there is something divine in the universe, the only way I will find it is through the love I feel for my family and my friends, and through the simple wonder of being alive.',\n",
       " ' I have tried to love my friends with a loyal and generous heart.']"
      ]
     },
     "execution_count": 46,
     "metadata": {},
     "output_type": "execute_result"
    }
   ],
   "source": [
    "pattern = re.compile(\"[^.]* love [^.]*.\")  ## We add a period after the \"anything but period\" to make the pattern give us the entire sentence including the ending period\n",
    "search = re.findall(pattern, book)\n",
    "search"
   ]
  },
  {
   "cell_type": "markdown",
   "id": "9bdcd441-9a3d-4026-9170-780f5fbb0160",
   "metadata": {},
   "source": [
    "This is much better, but every sentence has a white space in the start, so we can use change the pattern such that it starts with the capital letter, not the space."
   ]
  },
  {
   "cell_type": "code",
   "execution_count": 47,
   "id": "8c47b3d8-fed6-46be-a0cb-bf33564bf2d6",
   "metadata": {},
   "outputs": [
    {
     "data": {
      "text/plain": [
       "['As a young man, of course, I could not put these things into words, but I knew, and my teammates knew, that there was something special about the game, and under the guidance of the Christian Brothers we developed a passionate love for the sport that shaped our friendships and our lives.',\n",
       " 'Guido and I grew up together, playing soccer and sharing a love of motorcycles, cars, and auto racing.',\n",
       " 'Under the guidance of the Christian Brothers, both of us grew to love the game of rugby with a consuming passion.',\n",
       " 'That rowdiness came to an abrupt end for Guido in 1969, when he met and fell in love with the beautiful daughter of a Chilean diplomat.',\n",
       " 'I believe he had a great hunger for the love and comforts of a family that was happy and whole.',\n",
       " 'He shared, with my father and me, a love for cars and driving, and he loved going with us to auto races.',\n",
       " 'The house had a beautiful view of the sea, and this more than anything made my mother love it.',\n",
       " 'She was a true tower of strength, but her strength was always based in warmth and love and because of her love and protection I grew up believing the world was a safe, familiar place.',\n",
       " 'He had given us a life of comfort and privilege such as his own father never could have imagined, he had provided for us and protected us in the best way he could, and though he was not an emotionally expressive man, he always showed his love for us subtly, quietly, and in ways that were true to the man he was.',\n",
       " 'Out of love for his family he had arranged in his mind a future that would keep us all safe, happy, and always together.',\n",
       " 'Susy shared my mother’s love for the closeness of family, but she was no stay-at-home girl.',\n",
       " 'When she was sixteen she spent a year as an exchange student living with a family in Florida, an experience that taught her to love the U.',\n",
       " 'As I lay beside her, the sweetness of my love for her, for my lost friends and my family, for the suddenly fragile notion of my own life and future, swelled in my heart with an ache so profound it sapped all my strength, and for a moment I thought I would pass out.',\n",
       " 'I pressed my cheek against hers so I could feel her warm breath on my face, and held her that way all night, gently, but very close, never letting go, embracing her as if I were embracing all the love and peace and joy I had ever known and would ever know; as if by holding on tight I could keep everything precious from slipping away.',\n",
       " 'I felt my love for my father tugging at me like a lifeline, drawing me toward those barren slopes.',\n",
       " 'In the days after Susy died, my love for my father was the only thing that kept me sane, and time after time I would calm myself by reaffirming the promise I had made at Susy’s grave: to return to him; to show him I had survived and to ease his suffering a little.',\n",
       " 'Thinking of my father this way always triggered in me a burst of love so radiant and urgent that it took my breath away.',\n",
       " 'Bobby, are you warm enough? Do you want me to rub your feet?” She worried constantly about the children she had left at home, but still she had the courage and love to mother these frightened boys who were so far from their families.',\n",
       " 'It was our job to follow His commandments, to take the sacraments, to love God and to love others as Jesus had taught us.',\n",
       " 'I would think of him and let my heart fill with love for him, and this love would be stronger than my suffering, or my fear.',\n",
       " 'After two weeks on the mountain, my love for my father had taken on the irresistible power of a biological drive.',\n",
       " 'All we can do is love God and love others and trust in God’s will.',\n",
       " 'Even if we are trapped here forever, we can love our families, and God, and each other as long as we live.',\n",
       " 'You will tell my family that I love them, won’t you? That’s all that matters to me now.',\n",
       " 'But he lived so many lifetimes, had so many adventures, and, macho, he made love to so many beautiful girls.',\n",
       " 'The shoes were magical for me because my mother had chosen them with such love for her grandson, and had handled them so tenderly on the plane.',\n",
       " 'My love for my father swelled in my heart, and I realized that, despite the hopelessness of my situation, the memory of him filled me with joy.',\n",
       " 'Only love can turn mere life into a miracle, and draw precious meaning from suffering and fear.',\n",
       " 'I would walk through the godforsaken country that separated me from my home with love and hope in my heart.',\n",
       " 'But still, still, I longed for the very things I knew I would never have—the love of a wife, a family of my own, a reunion with my grandmother and older sister, and always the embrace of my father.',\n",
       " 'My ordeal had simplified my mind and whittled me down very close to the essence of what I was, and now I saw that this longing, this love and affection for the very idea of my life, was a deeper part of me than hopelessness or fear or pain or hunger.',\n",
       " 'In seconds she was in my arms, and my heart swelled with love as I held her.',\n",
       " 'There was so much I wanted to tell him, that I had thought of him every moment, that his love had been the guiding light that led me to safety.',\n",
       " 'Where should I begin? “I love it,” I said, finally.',\n",
       " 'She stepped off the train with only a backpack and a small duffel, looking very beautiful, and I fell in love with her all over again.',\n",
       " 'Until then, I had thought I could never love anything as much as I loved my wife, but when I gazed into my baby’s face, I was struck senseless by my love for her.',\n",
       " 'I felt a sudden, staggering sense of gratitude for the rich joys of my life—I had been given so much love and happiness—and I realized that every grueling step I had taken through that godforsaken wilderness was a step toward the tiny, precious miracle I held in my arms.',\n",
       " 'He was never an openly affectionate man, but I never doubted his love when I was a boy.',\n",
       " 'When I was in the mountains, stranded in the shadows of death, that love was like a safety line anchored in the world of the living.',\n",
       " 'As long as I held on to that love, I was not lost, I was connected to my home and to my future, and in the end it was that strong cord of love that led me out of danger.',\n",
       " 'There was love, the love in my heart, and for one incredible moment, as I felt this love swell—love for my father, for my future, for the simple wonder of being alive—death lost its power.',\n",
       " 'I love to travel.',\n",
       " 'I believe life should be enjoyed, but my experiences have taught me that without the love of my family and my friends, all the trappings of worldly success would ring hollow.',\n",
       " 'I savor them and let each one become a miniature eternity, and by living these small moments of my life so fully, I defy the shadow of death that hovers over all of us, I reaffirm my love and gratitude for all the gifts I’ve been given, and I fill myself more and more deeply with life.',\n",
       " 'I open myself to it, I try to direct that tide of love toward the people who are close to me, hoping to protect them and bind them to me forever and connect us all to whatever there is in the world that is eternal.',\n",
       " 'In the mountains, it was love that kept me connected to the world of the living.',\n",
       " 'I had no expertise to draw on, so I relied upon the trust I felt in my love for my father and my future, and that trust led me home.',\n",
       " 'Now I am convinced that if there is something divine in the universe, the only way I will find it is through the love I feel for my family and my friends, and through the simple wonder of being alive.',\n",
       " 'I have tried to love my friends with a loyal and generous heart.']"
      ]
     },
     "execution_count": 47,
     "metadata": {},
     "output_type": "execute_result"
    }
   ],
   "source": [
    "pattern = re.compile(\"[A-Z]{1}[^.]* love [^.]*.\")\n",
    "search = re.findall(pattern, book)\n",
    "search"
   ]
  },
  {
   "cell_type": "markdown",
   "id": "a26760bf-7dd8-4646-92f7-a82944051b66",
   "metadata": {},
   "source": [
    "Now this is almost perfect, but there might be some sentences where there a punchtuation right after the word love, or Love might be the first word of the sentence meaning it has a capital L. Lets change the pattern to include these considerations"
   ]
  },
  {
   "cell_type": "code",
   "execution_count": 55,
   "id": "3133cf3b-82d6-4596-9d2e-bd8653059d33",
   "metadata": {},
   "outputs": [
    {
     "data": {
      "text/plain": [
       "['As a young man, of course, I could not put these things into words, but I knew, and my teammates knew, that there was something special about the game, and under the guidance of the Christian Brothers we developed a passionate love for the sport that shaped our friendships and our lives.',\n",
       " 'Guido and I grew up together, playing soccer and sharing a love of motorcycles, cars, and auto racing.',\n",
       " 'Under the guidance of the Christian Brothers, both of us grew to love the game of rugby with a consuming passion.',\n",
       " 'That rowdiness came to an abrupt end for Guido in 1969, when he met and fell in love with the beautiful daughter of a Chilean diplomat.',\n",
       " 'I believe he had a great hunger for the love and comforts of a family that was happy and whole.',\n",
       " 'He shared, with my father and me, a love for cars and driving, and he loved going with us to auto races.',\n",
       " 'The house had a beautiful view of the sea, and this more than anything made my mother love it.',\n",
       " 'She was a true tower of strength, but her strength was always based in warmth and love and because of her love and protection I grew up believing the world was a safe, familiar place.',\n",
       " 'He had given us a life of comfort and privilege such as his own father never could have imagined, he had provided for us and protected us in the best way he could, and though he was not an emotionally expressive man, he always showed his love for us subtly, quietly, and in ways that were true to the man he was.',\n",
       " 'Out of love for his family he had arranged in his mind a future that would keep us all safe, happy, and always together.',\n",
       " 'Susy shared my mother’s love for the closeness of family, but she was no stay-at-home girl.',\n",
       " 'When she was sixteen she spent a year as an exchange student living with a family in Florida, an experience that taught her to love the U.',\n",
       " 'Take care of the people you love. The words inspired nothing in me but a black sense of loss.',\n",
       " 'As I lay beside her, the sweetness of my love for her, for my lost friends and my family, for the suddenly fragile notion of my own life and future, swelled in my heart with an ache so profound it sapped all my strength, and for a moment I thought I would pass out.',\n",
       " 'I pressed my cheek against hers so I could feel her warm breath on my face, and held her that way all night, gently, but very close, never letting go, embracing her as if I were embracing all the love and peace and joy I had ever known and would ever know; as if by holding on tight I could keep everything precious from slipping away.',\n",
       " 'I felt my love for my father tugging at me like a lifeline, drawing me toward those barren slopes.',\n",
       " 'In the days after Susy died, my love for my father was the only thing that kept me sane, and time after time I would calm myself by reaffirming the promise I had made at Susy’s grave: to return to him; to show him I had survived and to ease his suffering a little.',\n",
       " 'Thinking of my father this way always triggered in me a burst of love so radiant and urgent that it took my breath away.',\n",
       " 'I don’t pray to God for forgiveness or favors, I only pray to be closer to Him, and when I pray, I fill my heart with love. When I pray this way, I know that God is love.',\n",
       " 'When I feel that love, I remember that we don’t need angels or a heaven, because we are a part of God already.',\n",
       " 'Bobby, are you warm enough? Do you want me to rub your feet?” She worried constantly about the children she had left at home, but still she had the courage and love to mother these frightened boys who were so far from their families.',\n",
       " 'It was our job to follow His commandments, to take the sacraments, to love God and to love others as Jesus had taught us.',\n",
       " 'I would think of him and let my heart fill with love for him, and this love would be stronger than my suffering, or my fear.',\n",
       " 'After two weeks on the mountain, my love for my father had taken on the irresistible power of a biological drive.',\n",
       " 'All we can do is love God and love others and trust in God’s will.',\n",
       " 'I can feel His love, Nando.',\n",
       " 'There’s so much love, I want to cry.',\n",
       " 'Even if we are trapped here forever, we can love our families, and God, and each other as long as we live.',\n",
       " 'You will tell my family that I love them, won’t you? That’s all that matters to me now.',\n",
       " 'But he lived so many lifetimes, had so many adventures, and, macho, he made love to so many beautiful girls.',\n",
       " 'The shoes were magical for me because my mother had chosen them with such love for her grandson, and had handled them so tenderly on the plane.',\n",
       " 'My love for my father swelled in my heart, and I realized that, despite the hopelessness of my situation, the memory of him filled me with joy.',\n",
       " 'They could not crush my ability to love. I felt a moment of calmness and clarity, and in that clarity of mind I discovered a simple, astounding secret: Death has an opposite, but the opposite is not mere living.',\n",
       " 'The opposite of death is love. How had I missed that? How does anyone miss that? Love is our only weapon.',\n",
       " 'Only love can turn mere life into a miracle, and draw precious meaning from suffering and fear.',\n",
       " 'I would walk through the godforsaken country that separated me from my home with love and hope in my heart.',\n",
       " 'I’ve never been in love.”\\n\\n“Really?” he laughed.',\n",
       " 'But still, still, I longed for the very things I knew I would never have—the love of a wife, a family of my own, a reunion with my grandmother and older sister, and always the embrace of my father.',\n",
       " 'My ordeal had simplified my mind and whittled me down very close to the essence of what I was, and now I saw that this longing, this love and affection for the very idea of my life, was a deeper part of me than hopelessness or fear or pain or hunger.',\n",
       " 'In seconds she was in my arms, and my heart swelled with love as I held her.',\n",
       " 'There was so much I wanted to tell him, that I had thought of him every moment, that his love had been the guiding light that led me to safety.',\n",
       " 'The papers called our return “The Christmas Miracle,” and many people were regarding us as almost mystical figures: young boys who had been saved by the direct intercession of God, living proof of His love. News of our survival was making headlines around the globe, and public interest was intense.',\n",
       " 'Where should I begin? “I love it,” I said, finally.',\n",
       " 'I tried to be on my best behavior, but already I was madly in love, and it required all my effort to take my eyes off Veronique, and to remind myself there was anyone else in the room.',\n",
       " 'She stepped off the train with only a backpack and a small duffel, looking very beautiful, and I fell in love with her all over again.',\n",
       " 'Until then, I had thought I could never love anything as much as I loved my wife, but when I gazed into my baby’s face, I was struck senseless by my love for her.',\n",
       " 'I felt a sudden, staggering sense of gratitude for the rich joys of my life—I had been given so much love and happiness—and I realized that every grueling step I had taken through that godforsaken wilderness was a step toward the tiny, precious miracle I held in my arms.',\n",
       " 'We are bonded by our suffering and our losses, but also by a great sense of mutual respect and, of course, a deep, unquestioned love. I don’t know if my father has ever understood how important he was to me when I was lost.',\n",
       " 'Mostly, he saved me with his love. He was never an openly affectionate man, but I never doubted his love when I was a boy.',\n",
       " 'It was quiet love, but solid and deep and enduring.',\n",
       " 'When I was in the mountains, stranded in the shadows of death, that love was like a safety line anchored in the world of the living.',\n",
       " 'As long as I held on to that love, I was not lost, I was connected to my home and to my future, and in the end it was that strong cord of love that led me out of danger.',\n",
       " 'He saved me simply by being the father I love.\\n\\n\\nWHEN MY FELLOW survivors and I first returned from the mountains, our parents and teachers, worried that we’d been scarred by the horrors we’d faced, asked us to visit a therapist.',\n",
       " 'There was love, the love in my heart, and for one incredible moment, as I felt this love swell—love for my father, for my future, for the simple wonder of being alive—death lost its power.',\n",
       " 'Instead, I made every step a step toward love, and that saved me.',\n",
       " 'I have never stopped moving toward love. Life has blessed me with material success.',\n",
       " 'I love to travel.',\n",
       " 'I believe life should be enjoyed, but my experiences have taught me that without the love of my family and my friends, all the trappings of worldly success would ring hollow.',\n",
       " 'I also know that I would be a happy man if all those trappings were taken from me, as long as I am close to the people I love.\\n\\nI expect most people would like to think of themselves this way, but I know that if I had not suffered as I did, and had not been forced to stare death in the face, I would not treasure the simple, precious pleasures of my life as richly as I do.',\n",
       " 'I savor them and let each one become a miniature eternity, and by living these small moments of my life so fully, I defy the shadow of death that hovers over all of us, I reaffirm my love and gratitude for all the gifts I’ve been given, and I fill myself more and more deeply with life.',\n",
       " 'It seemed to reach me through my own feelings of love, and I have often thought that when we feel what we call love, we are really feeling our connection to this awesome presence.',\n",
       " 'Instead, I imagine love, an ocean of love, the very source of love, and I imagine myself merging with it.',\n",
       " 'I open myself to it, I try to direct that tide of love toward the people who are close to me, hoping to protect them and bind them to me forever and connect us all to whatever there is in the world that is eternal.',\n",
       " 'In the mountains, it was love that kept me connected to the world of the living.',\n",
       " 'I had no expertise to draw on, so I relied upon the trust I felt in my love for my father and my future, and that trust led me home.',\n",
       " 'Now I am convinced that if there is something divine in the universe, the only way I will find it is through the love I feel for my family and my friends, and through the simple wonder of being alive.',\n",
       " 'I don’t need any other wisdom or philosophy than this: My duty is to fill my time on earth with as much life as possible, to become a little more human every day, and to understand that we only become human when we love. I have tried to love my friends with a loyal and generous heart.']"
      ]
     },
     "execution_count": 55,
     "metadata": {},
     "output_type": "execute_result"
    }
   ],
   "source": [
    "pattern = re.compile(\"[A-Z]{1}[^.]*[^a-zA-Z][lL]ove[^a-zA-Z][^.]*.\")\n",
    "search = re.findall(pattern, book)\n",
    "lsearch"
   ]
  },
  {
   "cell_type": "code",
   "execution_count": null,
   "id": "d5ab2263-faa9-4cbd-a3f0-d84089780c37",
   "metadata": {},
   "outputs": [],
   "source": []
  },
  {
   "cell_type": "code",
   "execution_count": null,
   "id": "65673618-0b20-47d4-b0a7-f1b80360c5df",
   "metadata": {},
   "outputs": [],
   "source": []
  },
  {
   "cell_type": "code",
   "execution_count": null,
   "id": "40da6f21-9613-4f2e-aa1d-310f079a1994",
   "metadata": {},
   "outputs": [],
   "source": []
  }
 ],
 "metadata": {
  "kernelspec": {
   "display_name": "Python 3 (ipykernel)",
   "language": "python",
   "name": "python3"
  },
  "language_info": {
   "codemirror_mode": {
    "name": "ipython",
    "version": 3
   },
   "file_extension": ".py",
   "mimetype": "text/x-python",
   "name": "python",
   "nbconvert_exporter": "python",
   "pygments_lexer": "ipython3",
   "version": "3.12.4"
  }
 },
 "nbformat": 4,
 "nbformat_minor": 5
}
